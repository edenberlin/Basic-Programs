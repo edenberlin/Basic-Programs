{
  "nbformat": 4,
  "nbformat_minor": 0,
  "metadata": {
    "colab": {
      "provenance": [],
      "authorship_tag": "ABX9TyN4U1gIY3NS1g0bnKQTlTD7",
      "include_colab_link": true
    },
    "kernelspec": {
      "name": "python3",
      "display_name": "Python 3"
    },
    "language_info": {
      "name": "python"
    }
  },
  "cells": [
    {
      "cell_type": "markdown",
      "metadata": {
        "id": "view-in-github",
        "colab_type": "text"
      },
      "source": [
        "<a href=\"https://colab.research.google.com/github/edenbrln/Basic-Programs/blob/main/Colorful_Turtle_Making_Random_Moves.ipynb\" target=\"_parent\"><img src=\"https://colab.research.google.com/assets/colab-badge.svg\" alt=\"Open In Colab\"/></a>"
      ]
    },
    {
      "cell_type": "code",
      "execution_count": 6,
      "metadata": {
        "colab": {
          "base_uri": "https://localhost:8080/",
          "height": 522
        },
        "id": "BVDlCWloOdIl",
        "outputId": "edbd9bb4-bc89-4df6-d683-dc38a7f67e3e"
      },
      "outputs": [
        {
          "output_type": "display_data",
          "data": {
            "text/plain": [
              "<IPython.core.display.HTML object>"
            ],
            "text/html": [
              "\n",
              "      <svg width=\"800\" height=\"500\">\n",
              "        <rect width=\"100%\" height=\"100%\" fill=\"black\"/>\n",
              "        <line x1=\"400\" y1=\"250\" x2=\"400.0\" y2=\"238.0\" stroke-linecap=\"round\" style=\"stroke:white;stroke-width:4\"/><line x1=\"400.0\" y1=\"238.0\" x2=\"483.987\" y2=\"239.466\" stroke-linecap=\"round\" style=\"stroke:red;stroke-width:4\"/><line x1=\"483.987\" y1=\"239.466\" x2=\"467.186\" y2=\"199.884\" stroke-linecap=\"round\" style=\"stroke:yellow;stroke-width:4\"/><line x1=\"467.186\" y1=\"199.884\" x2=\"466.401\" y2=\"154.891\" stroke-linecap=\"round\" style=\"stroke:purple;stroke-width:4\"/><line x1=\"466.401\" y1=\"154.891\" x2=\"499.366\" y2=\"73.299\" stroke-linecap=\"round\" style=\"stroke:red;stroke-width:4\"/><line x1=\"499.366\" y1=\"73.299\" x2=\"455.607\" y2=\"77.898\" stroke-linecap=\"round\" style=\"stroke:yellow;stroke-width:4\"/><line x1=\"455.607\" y1=\"77.898\" x2=\"554.088\" y2=\"60.533\" stroke-linecap=\"round\" style=\"stroke:purple;stroke-width:4\"/><line x1=\"554.088\" y1=\"60.533\" x2=\"578.601\" y2=\"39.964\" stroke-linecap=\"round\" style=\"stroke:red;stroke-width:4\"/><line x1=\"578.601\" y1=\"39.964\" x2=\"613.421\" y2=\"63.45\" stroke-linecap=\"round\" style=\"stroke:yellow;stroke-width:4\"/><line x1=\"613.421\" y1=\"63.45\" x2=\"657.55\" y2=\"28.973\" stroke-linecap=\"round\" style=\"stroke:purple;stroke-width:4\"/><line x1=\"657.55\" y1=\"28.973\" x2=\"664.992\" y2=\"3.019\" stroke-linecap=\"round\" style=\"stroke:red;stroke-width:4\"/><line x1=\"664.992\" y1=\"3.019\" x2=\"648.773\" y2=\"-80.419\" stroke-linecap=\"round\" style=\"stroke:yellow;stroke-width:4\"/><line x1=\"648.773\" y1=\"-80.419\" x2=\"637.403\" y2=\"-74.116\" stroke-linecap=\"round\" style=\"stroke:purple;stroke-width:4\"/><line x1=\"637.403\" y1=\"-74.116\" x2=\"617.464\" y2=\"-83.414\" stroke-linecap=\"round\" style=\"stroke:red;stroke-width:4\"/><line x1=\"617.464\" y1=\"-83.414\" x2=\"619.174\" y2=\"14.571\" stroke-linecap=\"round\" style=\"stroke:yellow;stroke-width:4\"/><line x1=\"619.174\" y1=\"14.571\" x2=\"573.429\" y2=\"-2.989\" stroke-linecap=\"round\" style=\"stroke:purple;stroke-width:4\"/><line x1=\"573.429\" y1=\"-2.989\" x2=\"553.858\" y2=\"-87.759\" stroke-linecap=\"round\" style=\"stroke:red;stroke-width:4\"/><line x1=\"553.858\" y1=\"-87.759\" x2=\"544.042\" y2=\"-89.667\" stroke-linecap=\"round\" style=\"stroke:yellow;stroke-width:4\"/><line x1=\"544.042\" y1=\"-89.667\" x2=\"452.266\" y2=\"-96.085\" stroke-linecap=\"round\" style=\"stroke:purple;stroke-width:4\"/><line x1=\"452.266\" y1=\"-96.085\" x2=\"438.29\" y2=\"-132.495\" stroke-linecap=\"round\" style=\"stroke:red;stroke-width:4\"/><line x1=\"438.29\" y1=\"-132.495\" x2=\"496.508\" y2=\"-147.01\" stroke-linecap=\"round\" style=\"stroke:yellow;stroke-width:4\"/><line x1=\"496.508\" y1=\"-147.01\" x2=\"557.174\" y2=\"-140.634\" stroke-linecap=\"round\" style=\"stroke:purple;stroke-width:4\"/><line x1=\"557.174\" y1=\"-140.634\" x2=\"617.423\" y2=\"-131.091\" stroke-linecap=\"round\" style=\"stroke:red;stroke-width:4\"/><line x1=\"617.423\" y1=\"-131.091\" x2=\"667.05\" y2=\"-124.998\" stroke-linecap=\"round\" style=\"stroke:yellow;stroke-width:4\"/><line x1=\"667.05\" y1=\"-124.998\" x2=\"645.918\" y2=\"-106.628\" stroke-linecap=\"round\" style=\"stroke:purple;stroke-width:4\"/><line x1=\"645.918\" y1=\"-106.628\" x2=\"653.36\" y2=\"-144.911\" stroke-linecap=\"round\" style=\"stroke:red;stroke-width:4\"/><line x1=\"653.36\" y1=\"-144.911\" x2=\"615.601\" y2=\"-98.282\" stroke-linecap=\"round\" style=\"stroke:yellow;stroke-width:4\"/><line x1=\"615.601\" y1=\"-98.282\" x2=\"543.875\" y2=\"-104.557\" stroke-linecap=\"round\" style=\"stroke:purple;stroke-width:4\"/><line x1=\"543.875\" y1=\"-104.557\" x2=\"494.905\" y2=\"-106.267\" stroke-linecap=\"round\" style=\"stroke:red;stroke-width:4\"/><line x1=\"494.905\" y1=\"-106.267\" x2=\"488.394\" y2=\"-125.177\" stroke-linecap=\"round\" style=\"stroke:yellow;stroke-width:4\"/><line x1=\"488.394\" y1=\"-125.177\" x2=\"562.955\" y2=\"-93.528\" stroke-linecap=\"round\" style=\"stroke:purple;stroke-width:4\"/><line x1=\"562.955\" y1=\"-93.528\" x2=\"597.455\" y2=\"-153.284\" stroke-linecap=\"round\" style=\"stroke:red;stroke-width:4\"/><line x1=\"597.455\" y1=\"-153.284\" x2=\"610.143\" y2=\"-159.201\" stroke-linecap=\"round\" style=\"stroke:yellow;stroke-width:4\"/><line x1=\"610.143\" y1=\"-159.201\" x2=\"595.832\" y2=\"-85.579\" stroke-linecap=\"round\" style=\"stroke:purple;stroke-width:4\"/><line x1=\"595.832\" y1=\"-85.579\" x2=\"614.188\" y2=\"-131.011\" stroke-linecap=\"round\" style=\"stroke:red;stroke-width:4\"/><line x1=\"614.188\" y1=\"-131.011\" x2=\"658.364\" y2=\"-65.517\" stroke-linecap=\"round\" style=\"stroke:yellow;stroke-width:4\"/><line x1=\"658.364\" y1=\"-65.517\" x2=\"644.819\" y2=\"-142.332\" stroke-linecap=\"round\" style=\"stroke:purple;stroke-width:4\"/><line x1=\"644.819\" y1=\"-142.332\" x2=\"635.116\" y2=\"-139.913\" stroke-linecap=\"round\" style=\"stroke:red;stroke-width:4\"/><line x1=\"635.116\" y1=\"-139.913\" x2=\"642.176\" y2=\"-220.605\" stroke-linecap=\"round\" style=\"stroke:yellow;stroke-width:4\"/><line x1=\"642.176\" y1=\"-220.605\" x2=\"681.179\" y2=\"-276.307\" stroke-linecap=\"round\" style=\"stroke:purple;stroke-width:4\"/><line x1=\"681.179\" y1=\"-276.307\" x2=\"677.282\" y2=\"-248.579\" stroke-linecap=\"round\" style=\"stroke:red;stroke-width:4\"/><line x1=\"677.282\" y1=\"-248.579\" x2=\"629.735\" y2=\"-207.247\" stroke-linecap=\"round\" style=\"stroke:yellow;stroke-width:4\"/><line x1=\"629.735\" y1=\"-207.247\" x2=\"546.849\" y2=\"-202.903\" stroke-linecap=\"round\" style=\"stroke:purple;stroke-width:4\"/><line x1=\"546.849\" y1=\"-202.903\" x2=\"583.375\" y2=\"-232.481\" stroke-linecap=\"round\" style=\"stroke:red;stroke-width:4\"/><line x1=\"583.375\" y1=\"-232.481\" x2=\"613.686\" y2=\"-249.981\" stroke-linecap=\"round\" style=\"stroke:yellow;stroke-width:4\"/><line x1=\"613.686\" y1=\"-249.981\" x2=\"543.343\" y2=\"-281.3\" stroke-linecap=\"round\" style=\"stroke:purple;stroke-width:4\"/><line x1=\"543.343\" y1=\"-281.3\" x2=\"612.842\" y2=\"-245.889\" stroke-linecap=\"round\" style=\"stroke:red;stroke-width:4\"/><line x1=\"612.842\" y1=\"-245.889\" x2=\"575.748\" y2=\"-186.526\" stroke-linecap=\"round\" style=\"stroke:yellow;stroke-width:4\"/><line x1=\"575.748\" y1=\"-186.526\" x2=\"560.991\" y2=\"-245.714\" stroke-linecap=\"round\" style=\"stroke:purple;stroke-width:4\"/><line x1=\"560.991\" y1=\"-245.714\" x2=\"484.876\" y2=\"-218.01\" stroke-linecap=\"round\" style=\"stroke:red;stroke-width:4\"/>\n",
              "        <g visibility=visible transform=\"rotate(398,484.876,-218.01) translate(466.876, -236.01)\">\n",
              "<path style=\" stroke:none;fill-rule:evenodd;fill:yellow;fill-opacity:1;\" d=\"M 18.214844 0.632812 C 16.109375 1.800781 15.011719 4.074219 15.074219 7.132812 L 15.085938 7.652344 L 14.785156 7.496094 C 13.476562 6.824219 11.957031 6.671875 10.40625 7.066406 C 8.46875 7.550781 6.515625 9.15625 4.394531 11.992188 C 3.0625 13.777344 2.679688 14.636719 3.042969 15.027344 L 3.15625 15.152344 L 3.519531 15.152344 C 4.238281 15.152344 4.828125 14.886719 8.1875 13.039062 C 9.386719 12.378906 10.371094 11.839844 10.378906 11.839844 C 10.386719 11.839844 10.355469 11.929688 10.304688 12.035156 C 9.832031 13.09375 9.257812 14.820312 8.96875 16.078125 C 7.914062 20.652344 8.617188 24.53125 11.070312 27.660156 C 11.351562 28.015625 11.363281 27.914062 10.972656 28.382812 C 8.925781 30.84375 7.945312 33.28125 8.238281 35.1875 C 8.289062 35.527344 8.28125 35.523438 8.917969 35.523438 C 10.941406 35.523438 13.074219 34.207031 15.136719 31.6875 C 15.359375 31.417969 15.328125 31.425781 15.5625 31.574219 C 16.292969 32.042969 18.023438 32.964844 18.175781 32.964844 C 18.335938 32.964844 19.941406 32.210938 20.828125 31.71875 C 20.996094 31.625 21.136719 31.554688 21.136719 31.558594 C 21.203125 31.664062 21.898438 32.414062 22.222656 32.730469 C 23.835938 34.300781 25.5625 35.132812 27.582031 35.300781 C 27.90625 35.328125 27.9375 35.308594 28.007812 34.984375 C 28.382812 33.242188 27.625 30.925781 25.863281 28.425781 L 25.542969 27.96875 L 25.699219 27.785156 C 28.945312 23.960938 29.132812 18.699219 26.257812 11.96875 L 26.207031 11.84375 L 27.945312 12.703125 C 31.53125 14.476562 32.316406 14.800781 33.03125 14.800781 C 33.976562 14.800781 33.78125 13.9375 32.472656 12.292969 C 28.519531 7.355469 25.394531 5.925781 21.921875 7.472656 L 21.558594 7.636719 L 21.578125 7.542969 C 21.699219 6.992188 21.761719 5.742188 21.699219 5.164062 C 21.496094 3.296875 20.664062 1.964844 19.003906 0.855469 C 18.480469 0.503906 18.457031 0.5 18.214844 0.632812\"/>\n",
              "</g>\n",
              "      </svg>\n",
              "    "
            ]
          },
          "metadata": {}
        }
      ],
      "source": [
        "import random\n",
        "colors=[\"red\", \"yellow\", \"purple\"]\n",
        "\n",
        "def moving(n):\n",
        "    for x in range(n):\n",
        "        t.forward(random.randint(10, 100))\n",
        "        t.color(colors[x%3])\n",
        "        t.left(random.randint(1, 360))\n",
        "\n",
        "t.initializeTurtle()\n",
        "t.speed(7)\n",
        "\n",
        "moving(50)"
      ]
    }
  ]
}